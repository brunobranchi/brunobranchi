{
  "nbformat": 4,
  "nbformat_minor": 0,
  "metadata": {
    "colab": {
      "provenance": [],
      "authorship_tag": "ABX9TyPrlYXW6K2fHB3sUZJHw2iX",
      "include_colab_link": true
    },
    "kernelspec": {
      "name": "python3",
      "display_name": "Python 3"
    },
    "language_info": {
      "name": "python"
    }
  },
  "cells": [
    {
      "cell_type": "markdown",
      "metadata": {
        "id": "view-in-github",
        "colab_type": "text"
      },
      "source": [
        "<a href=\"https://colab.research.google.com/github/brunobranchi/brunobranchi/blob/main/Atividade_5_12_ebac.ipynb\" target=\"_parent\"><img src=\"https://colab.research.google.com/assets/colab-badge.svg\" alt=\"Open In Colab\"/></a>"
      ]
    },
    {
      "cell_type": "code",
      "source": [
        "import math\n",
        "pi=math.pi\n",
        "diametro=input('Imagine um eixo de aço. Informe o diâmetro (em centímetros): ')\n",
        "dim=float(diametro)\n",
        "#densidade do aço=7.85g/cm^3\n",
        "while not diametro.isnumeric():\n",
        "    print('Informe apenas números')\n",
        "    diametro=input('Imagine um eixo de aço. Informe o diâmetro (em centímetros): ')\n",
        "    dim=float(diametro)\n",
        "comprimento=input('Informe o comprimento: ')\n",
        "comp=float(comprimento)\n",
        "while not comprimento.isnumeric():\n",
        "  print('Informe apenas números')\n",
        "  comprimento=input('Informe o comprimento: ')\n",
        "  comp=float(comprimento)\n",
        "\n",
        "r=(dim)/2.0\n",
        "area=pi*(r*r)\n",
        "circ=pi*dim\n",
        "vol=area*comp\n",
        "massa=vol*7.85\n",
        "print('Área da secção transversal do exio: ',area,'cm^2')\n",
        "print('Área da superfície lateral do eixo: ',circ*comp,'cm^2')\n",
        "print('Massa do eixo: ',(massa)/1000,'kg')\n",
        "if (massa/1000)>=50: print('Este eixo ficou muito pesado, cuidado ao transportar')\n",
        "else: print('Este eixo não ficou muito pesado, o transporte não será difícil')"
      ],
      "metadata": {
        "colab": {
          "base_uri": "https://localhost:8080/"
        },
        "id": "erpVE7Za3W4N",
        "outputId": "4f31de21-fff0-49cd-bf03-36794793c96a"
      },
      "execution_count": 56,
      "outputs": [
        {
          "output_type": "stream",
          "name": "stdout",
          "text": [
            "Imagine um eixo de aço. Informe o diâmetro (em centímetros): 5\n",
            "Informe o comprimento: 50\n",
            "Área da secção transversal do exio:  19.634954084936208 cm^2\n",
            "Área da superfície lateral do eixo:  785.3981633974482 cm^2\n",
            "Massa do eixo:  7.706719478337461 kg\n",
            "Este eixo não ficou muito pesado, o transporte não será difícil\n"
          ]
        }
      ]
    },
    {
      "cell_type": "code",
      "source": [],
      "metadata": {
        "id": "Svlc-aQYCunV"
      },
      "execution_count": 49,
      "outputs": []
    }
  ]
}